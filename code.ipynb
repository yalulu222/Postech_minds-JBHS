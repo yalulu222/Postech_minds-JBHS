{
 "cells": [
  {
   "cell_type": "code",
   "execution_count": 14,
   "metadata": {},
   "outputs": [
    {
     "name": "stdout",
     "output_type": "stream",
     "text": [
      "Model: \"model_9\"\n",
      "__________________________________________________________________________________________________\n",
      " Layer (type)                Output Shape                 Param #   Connected to                  \n",
      "==================================================================================================\n",
      " input_37 (InputLayer)       [(None, 500, 500, 1)]        0         []                            \n",
      "                                                                                                  \n",
      " conv2d_18 (Conv2D)          (None, 498, 498, 15)         150       ['input_37[0][0]']            \n",
      "                                                                                                  \n",
      " max_pooling2d_9 (MaxPoolin  (None, 99, 99, 15)           0         ['conv2d_18[0][0]']           \n",
      " g2D)                                                                                             \n",
      "                                                                                                  \n",
      " conv2d_19 (Conv2D)          (None, 97, 97, 15)           2040      ['max_pooling2d_9[0][0]']     \n",
      "                                                                                                  \n",
      " flatten_9 (Flatten)         (None, 141135)               0         ['conv2d_19[0][0]']           \n",
      "                                                                                                  \n",
      " input_39 (InputLayer)       [(None, 1)]                  0         []                            \n",
      "                                                                                                  \n",
      " input_40 (InputLayer)       [(None, 2)]                  0         []                            \n",
      "                                                                                                  \n",
      " concatenate_9 (Concatenate  (None, 141138)               0         ['flatten_9[0][0]',           \n",
      " )                                                                   'input_39[0][0]',            \n",
      "                                                                     'input_40[0][0]']            \n",
      "                                                                                                  \n",
      " dense_27 (Dense)            (None, 64)                   9032896   ['concatenate_9[0][0]']       \n",
      "                                                                                                  \n",
      " dense_28 (Dense)            (None, 64)                   4160      ['dense_27[0][0]']            \n",
      "                                                                                                  \n",
      " dense_29 (Dense)            (None, 2)                    130       ['dense_28[0][0]']            \n",
      "                                                                                                  \n",
      "==================================================================================================\n",
      "Total params: 9039376 (34.48 MB)\n",
      "Trainable params: 9039376 (34.48 MB)\n",
      "Non-trainable params: 0 (0.00 Byte)\n",
      "__________________________________________________________________________________________________\n"
     ]
    }
   ],
   "source": [
    "import gym\n",
    "import gym_pen\n",
    "import numpy as np\n",
    "import tensorflow as tf\n",
    "\n",
    "shape = (500, 500)\n",
    "\n",
    "env = gym.make('pen-v0')\n",
    "\n",
    "observation, _ = env.reset()\n",
    "\n",
    "def custom_model(shape=(100, 100)):\n",
    "    # Define the layers\n",
    "    array_input = tf.keras.layers.Input(shape=(shape[0], shape[1], 1))\n",
    "    char_input = tf.keras.layers.Input(shape=(1,))\n",
    "    index_input = tf.keras.layers.Input(shape=(1,))\n",
    "    xy_input = tf.keras.layers.Input(shape=(2,))\n",
    "\n",
    "    array_x = tf.keras.layers.Conv2D(15, 3, activation='relu', kernel_initializer='he_normal')(array_input)\n",
    "    array_x = tf.keras.layers.MaxPooling2D(5)(array_x)\n",
    "    array_x = tf.keras.layers.Conv2D(15, 3, activation='relu', kernel_initializer='he_normal')(array_x)\n",
    "    array_x = tf.keras.layers.Flatten()(array_x)\n",
    "\n",
    "    combined_x = tf.keras.layers.Concatenate()([array_x, index_input, xy_input])\n",
    "    x = tf.keras.layers.Dense(64, activation='relu', kernel_initializer='he_normal')(combined_x)\n",
    "    x = tf.keras.layers.Dense(64, activation='relu', kernel_initializer='he_normal')(x)\n",
    "\n",
    "    output_xy = tf.keras.layers.Dense(2, activation='relu')(x)\n",
    "\n",
    "    model = tf.keras.Model(inputs=[array_input, index_input, xy_input], outputs=[output_xy])\n",
    "    return model\n",
    "\n",
    "model = custom_model(shape=shape)\n",
    "model.summary()"
   ]
  },
  {
   "cell_type": "code",
   "execution_count": 17,
   "metadata": {},
   "outputs": [],
   "source": [
    "env.initialize_with_noise(0.01)"
   ]
  },
  {
   "cell_type": "code",
   "execution_count": 18,
   "metadata": {},
   "outputs": [
    {
     "name": "stdout",
     "output_type": "stream",
     "text": [
      "1/1 [==============================] - 0s 52ms/step\n",
      "[0.00062219 0.0086446 ]\n"
     ]
    }
   ],
   "source": [
    "\n",
    "# 모델 생성\n",
    "model = custom_model()\n",
    "\n",
    "# 모델 초기화\n",
    "model.build(input_shape=[(None, 500, 500, 1), (None, 1), (None, 2)])\n",
    "\n",
    "# 가상의 입력 데이터 생성 (with batch dimension)\n",
    "array_input_data = np.expand_dims(env.model_canvas, axis=0)  # (1, 100, 100, 1)\n",
    "index_input_data = np.array([[env.step_idx]])  # (1, 1)\n",
    "xy_input_data = np.array([env.model_pen_position])  # (1, 2)\n",
    "\n",
    "\n",
    "# 모델에 입력 데이터 전달하여 출력 얻기\n",
    "output_xy = model.predict([array_input_data, index_input_data, xy_input_data])\n",
    "\n",
    "np.shape(output_xy[0])\n",
    "print(output_xy[0,:])"
   ]
  },
  {
   "cell_type": "code",
   "execution_count": null,
   "metadata": {},
   "outputs": [],
   "source": []
  }
 ],
 "metadata": {
  "kernelspec": {
   "display_name": "ml",
   "language": "python",
   "name": "python3"
  },
  "language_info": {
   "codemirror_mode": {
    "name": "ipython",
    "version": 3
   },
   "file_extension": ".py",
   "mimetype": "text/x-python",
   "name": "python",
   "nbconvert_exporter": "python",
   "pygments_lexer": "ipython3",
   "version": "3.10.12"
  },
  "orig_nbformat": 4
 },
 "nbformat": 4,
 "nbformat_minor": 2
}
